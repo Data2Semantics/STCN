{
 "metadata": {
  "name": "STCNScratch"
 },
 "nbformat": 3,
 "nbformat_minor": 0,
 "worksheets": [
  {
   "cells": [
    {
     "cell_type": "code",
     "collapsed": false,
     "input": [
      "import re\n",
      "\n",
      "koning = '@Friedrich\"%II = 2 (King of Prussia)!070222037!Friedrich II koning van Pruisen (1712-1786)'\n",
      "normaal = 'Willem@Sluiter!069827621!Willem Sluiter (1627-1673)'\n",
      "tussenvoegsel = 'Franciscus/van@Thienen!121554236!Franciscus Van Thienen (17XX)'\n",
      "tussenvoegsel2 = 'Franciscus/van@Thienen!121554236!Franciscus Van Thienen (-17XX)'\n",
      "ingang = '@Potre!069966133!Jean Le Pautre (1622-1682)'\n",
      "toevoeging = 'Franciscus/van@Thienen (blaat)!121554236!Franciscus Van Thienen (17XX)'\n",
      "tristano = 'Tristano/d\\'@Acunha!126256268!Tristano de Acunha (1506 fl.)'\n",
      "diodore = '@Diodore\"%de Sicile!06809499X!Diodorus Siculus (1e E. v.Chr.)'\n",
      "\n",
      "\n",
      "\n",
      "re_koning = r'^\\@(?P<naam>.+)\\\"\\%(?P<volgnummer>\\w+)\\s\\=\\s\\d+\\s\\((?P<beschrijving>.+?)\\).*\\!(?P<ppn>(\\d|\\w){9})\\!(?P<nastuk>.+)'\n",
      "re_nastuk = r'(?P<altnaam>(\\w|\\s)+)(\\((?P<geboortejaar>.+?)(\\-(?P<sterftejaar>.+?))?\\))?'\n",
      "\n",
      "\n",
      "m = re.search(re_koning,koning)\n",
      "\n",
      "if m:\n",
      "    print m.group('naam'), m.group('volgnummer'), m.group('beschrijving'), m.group('ppn')\n",
      "    \n",
      "    m = re.search(re_nastuk,m.group('nastuk'))\n",
      "    \n",
      "    if m:\n",
      "        print m.group('altnaam').strip(), m.group('geboortejaar'), m.group('sterftejaar')"
     ],
     "language": "python",
     "metadata": {},
     "outputs": [
      {
       "output_type": "stream",
       "stream": "stdout",
       "text": [
        "Friedrich II King of Prussia 070222037\n",
        "Friedrich II koning van Pruisen 1712 1786\n"
       ]
      }
     ],
     "prompt_number": 123
    },
    {
     "cell_type": "code",
     "collapsed": false,
     "input": [
      "re_normaal = r'^(?P<voornaam>.+?)(/(?P<tussenvoegsel>.+?))?\\@(?P<achternaam>.+?)(\\s\\((?P<toevoeging>.+?)\\))?\\!(?P<ppn>(\\d|\\w){9})\\!(?P<nastuk>.+)'\n",
      "\n",
      "m = re.search(re_normaal,tristano)\n",
      "\n",
      "if m:\n",
      "    print m.group('voornaam'), m.group('tussenvoegsel'), m.group('achternaam'), m.group('toevoeging'), m.group('ppn')\n",
      "    \n",
      "    m = re.search(re_nastuk,m.group('nastuk'))\n",
      "    \n",
      "    if m:\n",
      "        print m.group('altnaam').strip(), m.group('geboortejaar'), m.group('sterftejaar')"
     ],
     "language": "python",
     "metadata": {},
     "outputs": [
      {
       "output_type": "stream",
       "stream": "stdout",
       "text": [
        "Tristano d' Acunha None 126256268\n",
        "Tristano de Acunha 1506 fl. None\n"
       ]
      }
     ],
     "prompt_number": 122
    },
    {
     "cell_type": "code",
     "collapsed": false,
     "input": [
      "re_ingang = r'^\\@(?P<achternaam>.+?)(\\\"\\%(?P<voornaam>.+?))?(\\((?P<toevoeging>.+?)\\))?\\!(?P<ppn>(\\d|\\w){9})\\!(?P<nastuk>.+)'\n",
      "\n",
      "m = re.search(re_ingang,diodore)\n",
      "\n",
      "if m:\n",
      "    print m.group('achternaam'), m.group('voornaam'), m.group('toevoeging'), m.group('ppn')\n",
      "    \n",
      "    m = re.search(re_nastuk,m.group('nastuk'))\n",
      "    \n",
      "    if m:\n",
      "        print m.group('altnaam').strip(), m.group('geboortejaar'), m.group('sterftejaar')"
     ],
     "language": "python",
     "metadata": {},
     "outputs": [
      {
       "output_type": "stream",
       "stream": "stdout",
       "text": [
        "Diodore de Sicile None 06809499X\n",
        "Diodorus Siculus 1e E. v.Chr. None\n"
       ]
      }
     ],
     "prompt_number": 124
    },
    {
     "cell_type": "code",
     "collapsed": false,
     "input": [
      "re_auteursthesaurus = r'(?P<naam>(\\w|\\s)+)(\\((?P<geboortejaar>.+?)(\\-(?P<sterftejaar>.+?))?\\))?'\n",
      "joao = u\"Jo\u00e3o de Barros (1496-1570)\"\n",
      "\n",
      "print re.search(re_auteursthesaurus,joao,re.UNICODE).groups()\n"
     ],
     "language": "python",
     "metadata": {},
     "outputs": [
      {
       "output_type": "stream",
       "stream": "stdout",
       "text": [
        "(u'Jo\\xe3o de Barros ', u' ', u'(1496-1570)', u'1496', u'-1570', u'1570')\n"
       ]
      }
     ],
     "prompt_number": 140
    },
    {
     "cell_type": "code",
     "collapsed": false,
     "input": [],
     "language": "python",
     "metadata": {},
     "outputs": []
    }
   ],
   "metadata": {}
  }
 ]
}